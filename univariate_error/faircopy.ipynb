{
 "cells": [
  {
   "cell_type": "code",
   "execution_count": 1,
   "id": "40b5e7bc-5edd-43b7-9a2d-44e3bf0f6519",
   "metadata": {},
   "outputs": [
    {
     "ename": "SyntaxError",
     "evalue": "invalid non-printable character U+00A0 (univariate.py, line 50)",
     "output_type": "error",
     "traceback": [
      "Traceback \u001b[1;36m(most recent call last)\u001b[0m:\n",
      "\u001b[0m  File \u001b[0;32mC:\\anaconda3\\Lib\\site-packages\\IPython\\core\\interactiveshell.py:3553\u001b[0m in \u001b[0;35mrun_code\u001b[0m\n    exec(code_obj, self.user_global_ns, self.user_ns)\u001b[0m\n",
      "\u001b[1;36m  Cell \u001b[1;32mIn[1], line 1\u001b[1;36m\n\u001b[1;33m    from univariate import univariate\u001b[1;36m\n",
      "\u001b[1;36m  File \u001b[1;32mE:\\AI Course tamil\\Data Science-Univariate analysis\\6.Frequency\\univariate.py:50\u001b[1;36m\u001b[0m\n\u001b[1;33m    return Lesser, Greater\u001b[0m\n\u001b[1;37m          ^\u001b[0m\n\u001b[1;31mSyntaxError\u001b[0m\u001b[1;31m:\u001b[0m invalid non-printable character U+00A0\n"
     ]
    }
   ],
   "source": [
    "from univariate import univariate"
   ]
  },
  {
   "cell_type": "code",
   "execution_count": null,
   "id": "f9d73a34-62a9-4f51-9806-f59695419e28",
   "metadata": {},
   "outputs": [],
   "source": [
    "import pandas as pd"
   ]
  },
  {
   "cell_type": "code",
   "execution_count": null,
   "id": "f0d17e58-9bff-4b6e-be21-38f0c1e406d0",
   "metadata": {},
   "outputs": [],
   "source": [
    "dataset=pd.read_csv(\"Placement.csv\")\n",
    "dataset"
   ]
  },
  {
   "cell_type": "code",
   "execution_count": null,
   "id": "8c443ac4-a7ee-4c24-a430-3f9b9f9313a6",
   "metadata": {},
   "outputs": [],
   "source": [
    "quan,qual=univariate.quanQual(dataset)"
   ]
  },
  {
   "cell_type": "code",
   "execution_count": null,
   "id": "9046db40-798e-4aa3-a7a4-4aaf4c710058",
   "metadata": {},
   "outputs": [],
   "source": [
    "qual"
   ]
  },
  {
   "cell_type": "code",
   "execution_count": null,
   "id": "5838765f-3b67-4c78-a8b3-5ff8d796fd4e",
   "metadata": {},
   "outputs": [],
   "source": [
    "quan"
   ]
  },
  {
   "cell_type": "code",
   "execution_count": null,
   "id": "d6981408-8a3c-448e-a359-e4c51fb3623d",
   "metadata": {},
   "outputs": [],
   "source": [
    "descriptive =univariate.Univariate(dataset, quan)"
   ]
  },
  {
   "cell_type": "code",
   "execution_count": null,
   "id": "3c468c4e-1ffb-4bc8-8b58-fcc026bbd280",
   "metadata": {},
   "outputs": [],
   "source": [
    "descriptive"
   ]
  },
  {
   "cell_type": "code",
   "execution_count": null,
   "id": "f0647d69-d17c-40f3-b181-b1a429422c56",
   "metadata": {},
   "outputs": [],
   "source": [
    "lesser, greater=univariate.Finding_outliers(descriptive, Quan)"
   ]
  },
  {
   "cell_type": "code",
   "execution_count": null,
   "id": "828f4f5e-595d-404b-a6d1-a956b066513a",
   "metadata": {},
   "outputs": [],
   "source": [
    "lesser"
   ]
  },
  {
   "cell_type": "code",
   "execution_count": null,
   "id": "e2f3b440-efc8-4883-b0f9-37dc712a74ca",
   "metadata": {},
   "outputs": [],
   "source": [
    "greater"
   ]
  },
  {
   "cell_type": "code",
   "execution_count": null,
   "id": "80aaca10-c8f9-4fcd-a894-3d74501e249d",
   "metadata": {},
   "outputs": [],
   "source": [
    "univariate.update_dataset(dataset, descriptive, lesser, greater)"
   ]
  },
  {
   "cell_type": "code",
   "execution_count": null,
   "id": "698b401e-e1ac-4dda-9baa-29ddb81e9e4a",
   "metadata": {},
   "outputs": [],
   "source": [
    "lesser"
   ]
  },
  {
   "cell_type": "code",
   "execution_count": null,
   "id": "ff8e62dc-618c-4852-b829-55084cc3f06e",
   "metadata": {},
   "outputs": [],
   "source": [
    "greater"
   ]
  },
  {
   "cell_type": "code",
   "execution_count": null,
   "id": "1f61d83c-0e55-4013-bf17-e5ca84cf7756",
   "metadata": {},
   "outputs": [],
   "source": []
  },
  {
   "cell_type": "code",
   "execution_count": null,
   "id": "8a0c63f5-2b2b-4985-8f4f-6104a9b9f310",
   "metadata": {},
   "outputs": [],
   "source": []
  }
 ],
 "metadata": {
  "kernelspec": {
   "display_name": "Python 3 (ipykernel)",
   "language": "python",
   "name": "python3"
  },
  "language_info": {
   "codemirror_mode": {
    "name": "ipython",
    "version": 3
   },
   "file_extension": ".py",
   "mimetype": "text/x-python",
   "name": "python",
   "nbconvert_exporter": "python",
   "pygments_lexer": "ipython3",
   "version": "3.11.7"
  }
 },
 "nbformat": 4,
 "nbformat_minor": 5
}
